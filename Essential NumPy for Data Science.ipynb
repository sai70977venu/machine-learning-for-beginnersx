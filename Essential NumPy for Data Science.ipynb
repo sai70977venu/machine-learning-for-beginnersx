{
 "cells": [
  {
   "cell_type": "code",
   "execution_count": 1,
   "metadata": {},
   "outputs": [],
   "source": [
    "import numpy as np"
   ]
  },
  {
   "cell_type": "code",
   "execution_count": 2,
   "metadata": {},
   "outputs": [],
   "source": [
    "a = np.random.randint(1,10,size=(5,5))"
   ]
  },
  {
   "cell_type": "code",
   "execution_count": 3,
   "metadata": {},
   "outputs": [
    {
     "data": {
      "text/plain": [
       "array([[1, 2, 6, 1, 4],\n",
       "       [1, 7, 1, 6, 1],\n",
       "       [8, 3, 2, 3, 8],\n",
       "       [5, 1, 4, 5, 1],\n",
       "       [1, 5, 7, 1, 1]])"
      ]
     },
     "execution_count": 3,
     "metadata": {},
     "output_type": "execute_result"
    }
   ],
   "source": [
    "a"
   ]
  },
  {
   "cell_type": "code",
   "execution_count": 5,
   "metadata": {},
   "outputs": [
    {
     "data": {
      "text/plain": [
       "(25, 1)"
      ]
     },
     "execution_count": 5,
     "metadata": {},
     "output_type": "execute_result"
    }
   ],
   "source": [
    "a.reshape(25,1).shape"
   ]
  },
  {
   "cell_type": "code",
   "execution_count": 6,
   "metadata": {},
   "outputs": [
    {
     "data": {
      "text/plain": [
       "25"
      ]
     },
     "execution_count": 6,
     "metadata": {},
     "output_type": "execute_result"
    }
   ],
   "source": [
    "a.size"
   ]
  },
  {
   "cell_type": "code",
   "execution_count": 7,
   "metadata": {},
   "outputs": [
    {
     "data": {
      "text/plain": [
       "2"
      ]
     },
     "execution_count": 7,
     "metadata": {},
     "output_type": "execute_result"
    }
   ],
   "source": [
    "a.ndim"
   ]
  },
  {
   "cell_type": "code",
   "execution_count": 8,
   "metadata": {},
   "outputs": [],
   "source": [
    "a = np.random.randint(1,10,size=(4,6))"
   ]
  },
  {
   "cell_type": "code",
   "execution_count": 9,
   "metadata": {},
   "outputs": [
    {
     "data": {
      "text/plain": [
       "array([[8, 3, 5, 9, 2, 3],\n",
       "       [8, 6, 2, 6, 2, 7],\n",
       "       [6, 7, 7, 9, 8, 3],\n",
       "       [9, 7, 2, 6, 1, 9]])"
      ]
     },
     "execution_count": 9,
     "metadata": {},
     "output_type": "execute_result"
    }
   ],
   "source": [
    "a"
   ]
  },
  {
   "cell_type": "code",
   "execution_count": 10,
   "metadata": {},
   "outputs": [
    {
     "data": {
      "text/plain": [
       "array([[8, 3],\n",
       "       [5, 9],\n",
       "       [2, 3],\n",
       "       [8, 6],\n",
       "       [2, 6],\n",
       "       [2, 7],\n",
       "       [6, 7],\n",
       "       [7, 9],\n",
       "       [8, 3],\n",
       "       [9, 7],\n",
       "       [2, 6],\n",
       "       [1, 9]])"
      ]
     },
     "execution_count": 10,
     "metadata": {},
     "output_type": "execute_result"
    }
   ],
   "source": [
    "a.reshape(12,2)"
   ]
  },
  {
   "cell_type": "code",
   "execution_count": 11,
   "metadata": {},
   "outputs": [
    {
     "data": {
      "text/plain": [
       "array([[8, 3, 5],\n",
       "       [9, 2, 3],\n",
       "       [8, 6, 2],\n",
       "       [6, 2, 7],\n",
       "       [6, 7, 7],\n",
       "       [9, 8, 3],\n",
       "       [9, 7, 2],\n",
       "       [6, 1, 9]])"
      ]
     },
     "execution_count": 11,
     "metadata": {},
     "output_type": "execute_result"
    }
   ],
   "source": [
    "a.reshape(-1,3)"
   ]
  },
  {
   "cell_type": "code",
   "execution_count": 13,
   "metadata": {},
   "outputs": [
    {
     "data": {
      "text/plain": [
       "array([[8, 3, 5, 9, 2, 3, 8, 6, 2, 6, 2, 7, 6, 7, 7, 9, 8, 3, 9, 7, 2, 6,\n",
       "        1, 9]])"
      ]
     },
     "execution_count": 13,
     "metadata": {},
     "output_type": "execute_result"
    }
   ],
   "source": [
    "a.reshape(1,-1)"
   ]
  },
  {
   "cell_type": "code",
   "execution_count": 14,
   "metadata": {},
   "outputs": [],
   "source": [
    "a = np.random.randint(1,10,size=(6,6))"
   ]
  },
  {
   "cell_type": "code",
   "execution_count": 19,
   "metadata": {},
   "outputs": [],
   "source": [
    "x,y,z = np.hsplit(a,[3,5])"
   ]
  },
  {
   "cell_type": "code",
   "execution_count": 17,
   "metadata": {},
   "outputs": [
    {
     "data": {
      "text/plain": [
       "array([[2, 4, 5, 1, 4, 2],\n",
       "       [3, 7, 7, 5, 6, 8],\n",
       "       [2, 9, 3, 7, 8, 7],\n",
       "       [7, 9, 6, 3, 3, 6],\n",
       "       [8, 4, 5, 4, 2, 5],\n",
       "       [5, 5, 1, 4, 5, 8]])"
      ]
     },
     "execution_count": 17,
     "metadata": {},
     "output_type": "execute_result"
    }
   ],
   "source": [
    "a"
   ]
  },
  {
   "cell_type": "code",
   "execution_count": 20,
   "metadata": {},
   "outputs": [
    {
     "data": {
      "text/plain": [
       "array([[2, 4, 5],\n",
       "       [3, 7, 7],\n",
       "       [2, 9, 3],\n",
       "       [7, 9, 6],\n",
       "       [8, 4, 5],\n",
       "       [5, 5, 1]])"
      ]
     },
     "execution_count": 20,
     "metadata": {},
     "output_type": "execute_result"
    }
   ],
   "source": [
    "x"
   ]
  },
  {
   "cell_type": "code",
   "execution_count": 21,
   "metadata": {},
   "outputs": [
    {
     "data": {
      "text/plain": [
       "array([[1, 4],\n",
       "       [5, 6],\n",
       "       [7, 8],\n",
       "       [3, 3],\n",
       "       [4, 2],\n",
       "       [4, 5]])"
      ]
     },
     "execution_count": 21,
     "metadata": {},
     "output_type": "execute_result"
    }
   ],
   "source": [
    "y"
   ]
  },
  {
   "cell_type": "code",
   "execution_count": 22,
   "metadata": {},
   "outputs": [
    {
     "data": {
      "text/plain": [
       "array([[2],\n",
       "       [8],\n",
       "       [7],\n",
       "       [6],\n",
       "       [5],\n",
       "       [8]])"
      ]
     },
     "execution_count": 22,
     "metadata": {},
     "output_type": "execute_result"
    }
   ],
   "source": [
    "z"
   ]
  },
  {
   "cell_type": "code",
   "execution_count": 23,
   "metadata": {},
   "outputs": [
    {
     "data": {
      "text/plain": [
       "array([[2, 4, 5, 1, 4, 2],\n",
       "       [3, 7, 7, 5, 6, 8],\n",
       "       [2, 9, 3, 7, 8, 7],\n",
       "       [7, 9, 6, 3, 3, 6],\n",
       "       [8, 4, 5, 4, 2, 5],\n",
       "       [5, 5, 1, 4, 5, 8]])"
      ]
     },
     "execution_count": 23,
     "metadata": {},
     "output_type": "execute_result"
    }
   ],
   "source": [
    "a"
   ]
  },
  {
   "cell_type": "code",
   "execution_count": 26,
   "metadata": {},
   "outputs": [],
   "source": [
    "x,y,z = np.vsplit(a,[2,4])"
   ]
  },
  {
   "cell_type": "code",
   "execution_count": 27,
   "metadata": {},
   "outputs": [
    {
     "data": {
      "text/plain": [
       "array([[2, 4, 5, 1, 4, 2],\n",
       "       [3, 7, 7, 5, 6, 8]])"
      ]
     },
     "execution_count": 27,
     "metadata": {},
     "output_type": "execute_result"
    }
   ],
   "source": [
    "x"
   ]
  },
  {
   "cell_type": "code",
   "execution_count": 28,
   "metadata": {},
   "outputs": [
    {
     "data": {
      "text/plain": [
       "array([[2, 9, 3, 7, 8, 7],\n",
       "       [7, 9, 6, 3, 3, 6]])"
      ]
     },
     "execution_count": 28,
     "metadata": {},
     "output_type": "execute_result"
    }
   ],
   "source": [
    "y"
   ]
  },
  {
   "cell_type": "code",
   "execution_count": 29,
   "metadata": {},
   "outputs": [
    {
     "data": {
      "text/plain": [
       "array([[8, 4, 5, 4, 2, 5],\n",
       "       [5, 5, 1, 4, 5, 8]])"
      ]
     },
     "execution_count": 29,
     "metadata": {},
     "output_type": "execute_result"
    }
   ],
   "source": [
    "z"
   ]
  },
  {
   "cell_type": "code",
   "execution_count": 30,
   "metadata": {},
   "outputs": [
    {
     "data": {
      "text/plain": [
       "array([[2, 4, 5, 1, 4, 2],\n",
       "       [3, 7, 7, 5, 6, 8],\n",
       "       [2, 9, 3, 7, 8, 7],\n",
       "       [7, 9, 6, 3, 3, 6],\n",
       "       [8, 4, 5, 4, 2, 5],\n",
       "       [5, 5, 1, 4, 5, 8]])"
      ]
     },
     "execution_count": 30,
     "metadata": {},
     "output_type": "execute_result"
    }
   ],
   "source": [
    "a"
   ]
  },
  {
   "cell_type": "code",
   "execution_count": 31,
   "metadata": {},
   "outputs": [
    {
     "data": {
      "text/plain": [
       "array([[2, 4, 5, 1, 4, 2],\n",
       "       [3, 7, 7, 5, 6, 8],\n",
       "       [2, 9, 3, 7, 8, 7],\n",
       "       [7, 9, 6, 3, 3, 6],\n",
       "       [8, 4, 5, 4, 2, 5],\n",
       "       [5, 5, 1, 4, 5, 8],\n",
       "       [2, 4, 5, 1, 4, 2],\n",
       "       [3, 7, 7, 5, 6, 8],\n",
       "       [2, 9, 3, 7, 8, 7],\n",
       "       [7, 9, 6, 3, 3, 6],\n",
       "       [8, 4, 5, 4, 2, 5],\n",
       "       [5, 5, 1, 4, 5, 8]])"
      ]
     },
     "execution_count": 31,
     "metadata": {},
     "output_type": "execute_result"
    }
   ],
   "source": [
    "np.vstack([a,a])"
   ]
  },
  {
   "cell_type": "code",
   "execution_count": 32,
   "metadata": {},
   "outputs": [
    {
     "data": {
      "text/plain": [
       "array([[2, 4, 5, 1, 4, 2, 2, 4, 5, 1, 4, 2],\n",
       "       [3, 7, 7, 5, 6, 8, 3, 7, 7, 5, 6, 8],\n",
       "       [2, 9, 3, 7, 8, 7, 2, 9, 3, 7, 8, 7],\n",
       "       [7, 9, 6, 3, 3, 6, 7, 9, 6, 3, 3, 6],\n",
       "       [8, 4, 5, 4, 2, 5, 8, 4, 5, 4, 2, 5],\n",
       "       [5, 5, 1, 4, 5, 8, 5, 5, 1, 4, 5, 8]])"
      ]
     },
     "execution_count": 32,
     "metadata": {},
     "output_type": "execute_result"
    }
   ],
   "source": [
    "np.hstack([a,a])"
   ]
  },
  {
   "cell_type": "code",
   "execution_count": null,
   "metadata": {},
   "outputs": [],
   "source": []
  }
 ],
 "metadata": {
  "kernelspec": {
   "display_name": "Python 3",
   "language": "python",
   "name": "python3"
  },
  "language_info": {
   "codemirror_mode": {
    "name": "ipython",
    "version": 3
   },
   "file_extension": ".py",
   "mimetype": "text/x-python",
   "name": "python",
   "nbconvert_exporter": "python",
   "pygments_lexer": "ipython3",
   "version": "3.6.4"
  }
 },
 "nbformat": 4,
 "nbformat_minor": 2
}
