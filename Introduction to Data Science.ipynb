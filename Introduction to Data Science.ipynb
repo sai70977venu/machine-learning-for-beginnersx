{
 "cells": [
  {
   "cell_type": "markdown",
   "metadata": {},
   "source": [
    "** Libraries\n",
    "- NumPy\n",
    "- Pandas\n",
    "- Matplotlib\n",
    "- scikit"
   ]
  },
  {
   "cell_type": "markdown",
   "metadata": {},
   "source": [
    "** Supervised\n",
    "- Linear Regression & variations\n",
    "- Logistic Regression\n",
    "- Naive Bayes\n",
    "- Decision Tree\n",
    "- Ensamble Methods - Boosting & RandomForest\n",
    "- Nearest Neighbors\n",
    "- SVM\n",
    "\n",
    "** Unsupervised\n",
    "- Nearest Neighbors\n",
    "- Kmeans\n",
    "- Other Clustering algoritms\n",
    "\n",
    "** Feature Selection\n",
    "\n",
    "** Feature Extraction\n",
    "\n",
    "** Preprocessing\n",
    "\n",
    "** Pipeline\n",
    "\n",
    "** GridSearch\n",
    "\n",
    "** DataFrameMapper\n",
    "\n",
    "** Model Validation\n",
    "\n",
    "** How to write production ready code\n",
    "\n",
    "** Fine Tuning"
   ]
  },
  {
   "cell_type": "code",
   "execution_count": null,
   "metadata": {},
   "outputs": [],
   "source": []
  }
 ],
 "metadata": {
  "kernelspec": {
   "display_name": "Python 3",
   "language": "python",
   "name": "python3"
  },
  "language_info": {
   "codemirror_mode": {
    "name": "ipython",
    "version": 3
   },
   "file_extension": ".py",
   "mimetype": "text/x-python",
   "name": "python",
   "nbconvert_exporter": "python",
   "pygments_lexer": "ipython3",
   "version": "3.6.4"
  }
 },
 "nbformat": 4,
 "nbformat_minor": 2
}
