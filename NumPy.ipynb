{
 "cells": [
  {
   "cell_type": "code",
   "execution_count": 1,
   "metadata": {},
   "outputs": [],
   "source": [
    "import numpy as np"
   ]
  },
  {
   "cell_type": "code",
   "execution_count": 2,
   "metadata": {},
   "outputs": [
    {
     "data": {
      "text/plain": [
       "array([0., 0., 0., 0.])"
      ]
     },
     "execution_count": 2,
     "metadata": {},
     "output_type": "execute_result"
    }
   ],
   "source": [
    "np.zeros(4)"
   ]
  },
  {
   "cell_type": "code",
   "execution_count": 4,
   "metadata": {},
   "outputs": [
    {
     "data": {
      "text/plain": [
       "array([[[1., 1., 1., 1., 1.],\n",
       "        [1., 1., 1., 1., 1.],\n",
       "        [1., 1., 1., 1., 1.],\n",
       "        [1., 1., 1., 1., 1.],\n",
       "        [1., 1., 1., 1., 1.]],\n",
       "\n",
       "       [[1., 1., 1., 1., 1.],\n",
       "        [1., 1., 1., 1., 1.],\n",
       "        [1., 1., 1., 1., 1.],\n",
       "        [1., 1., 1., 1., 1.],\n",
       "        [1., 1., 1., 1., 1.]],\n",
       "\n",
       "       [[1., 1., 1., 1., 1.],\n",
       "        [1., 1., 1., 1., 1.],\n",
       "        [1., 1., 1., 1., 1.],\n",
       "        [1., 1., 1., 1., 1.],\n",
       "        [1., 1., 1., 1., 1.]],\n",
       "\n",
       "       [[1., 1., 1., 1., 1.],\n",
       "        [1., 1., 1., 1., 1.],\n",
       "        [1., 1., 1., 1., 1.],\n",
       "        [1., 1., 1., 1., 1.],\n",
       "        [1., 1., 1., 1., 1.]],\n",
       "\n",
       "       [[1., 1., 1., 1., 1.],\n",
       "        [1., 1., 1., 1., 1.],\n",
       "        [1., 1., 1., 1., 1.],\n",
       "        [1., 1., 1., 1., 1.],\n",
       "        [1., 1., 1., 1., 1.]]])"
      ]
     },
     "execution_count": 4,
     "metadata": {},
     "output_type": "execute_result"
    }
   ],
   "source": [
    "np.ones((5,5,5))"
   ]
  },
  {
   "cell_type": "code",
   "execution_count": 6,
   "metadata": {},
   "outputs": [
    {
     "data": {
      "text/plain": [
       "array([[2., 0., 0.],\n",
       "       [0., 2., 0.],\n",
       "       [0., 0., 2.]])"
      ]
     },
     "execution_count": 6,
     "metadata": {},
     "output_type": "execute_result"
    }
   ],
   "source": [
    "2 * np.eye(M=3,N=3)"
   ]
  },
  {
   "cell_type": "code",
   "execution_count": 11,
   "metadata": {},
   "outputs": [],
   "source": [
    "a = np.random.randint(0,10,size=(4,4))"
   ]
  },
  {
   "cell_type": "code",
   "execution_count": 12,
   "metadata": {},
   "outputs": [
    {
     "data": {
      "text/plain": [
       "(4, 4)"
      ]
     },
     "execution_count": 12,
     "metadata": {},
     "output_type": "execute_result"
    }
   ],
   "source": [
    "a.shape"
   ]
  },
  {
   "cell_type": "code",
   "execution_count": 13,
   "metadata": {},
   "outputs": [
    {
     "data": {
      "text/plain": [
       "2"
      ]
     },
     "execution_count": 13,
     "metadata": {},
     "output_type": "execute_result"
    }
   ],
   "source": [
    "a.ndim"
   ]
  },
  {
   "cell_type": "code",
   "execution_count": 14,
   "metadata": {},
   "outputs": [
    {
     "data": {
      "text/plain": [
       "16"
      ]
     },
     "execution_count": 14,
     "metadata": {},
     "output_type": "execute_result"
    }
   ],
   "source": [
    "a.size"
   ]
  },
  {
   "cell_type": "code",
   "execution_count": 26,
   "metadata": {},
   "outputs": [],
   "source": [
    "a = np.linspace(1,10,20)"
   ]
  },
  {
   "cell_type": "code",
   "execution_count": 28,
   "metadata": {},
   "outputs": [
    {
     "data": {
      "text/plain": [
       "array([1.94736842, 2.42105263, 2.89473684])"
      ]
     },
     "execution_count": 28,
     "metadata": {},
     "output_type": "execute_result"
    }
   ],
   "source": [
    "a[2:5]"
   ]
  },
  {
   "cell_type": "code",
   "execution_count": 34,
   "metadata": {},
   "outputs": [],
   "source": [
    "a = np.arange(0,100).reshape(10,10)"
   ]
  },
  {
   "cell_type": "code",
   "execution_count": 36,
   "metadata": {},
   "outputs": [
    {
     "data": {
      "text/plain": [
       "array([[ 1,  2,  3],\n",
       "       [11, 12, 13],\n",
       "       [21, 22, 23],\n",
       "       [31, 32, 33],\n",
       "       [41, 42, 43],\n",
       "       [51, 52, 53],\n",
       "       [61, 62, 63],\n",
       "       [71, 72, 73],\n",
       "       [81, 82, 83],\n",
       "       [91, 92, 93]])"
      ]
     },
     "execution_count": 36,
     "metadata": {},
     "output_type": "execute_result"
    }
   ],
   "source": [
    "a[:,1:4]"
   ]
  },
  {
   "cell_type": "code",
   "execution_count": 37,
   "metadata": {},
   "outputs": [
    {
     "data": {
      "text/plain": [
       "array([[30, 31, 32, 33, 34, 35, 36, 37, 38, 39],\n",
       "       [40, 41, 42, 43, 44, 45, 46, 47, 48, 49],\n",
       "       [50, 51, 52, 53, 54, 55, 56, 57, 58, 59]])"
      ]
     },
     "execution_count": 37,
     "metadata": {},
     "output_type": "execute_result"
    }
   ],
   "source": [
    "a[3:6,:]"
   ]
  },
  {
   "cell_type": "code",
   "execution_count": 38,
   "metadata": {},
   "outputs": [],
   "source": [
    "a[0][0] = 9999"
   ]
  },
  {
   "cell_type": "code",
   "execution_count": 39,
   "metadata": {},
   "outputs": [
    {
     "data": {
      "text/plain": [
       "array([[9999,    1,    2,    3,    4,    5,    6,    7,    8,    9],\n",
       "       [  10,   11,   12,   13,   14,   15,   16,   17,   18,   19],\n",
       "       [  20,   21,   22,   23,   24,   25,   26,   27,   28,   29],\n",
       "       [  30,   31,   32,   33,   34,   35,   36,   37,   38,   39],\n",
       "       [  40,   41,   42,   43,   44,   45,   46,   47,   48,   49],\n",
       "       [  50,   51,   52,   53,   54,   55,   56,   57,   58,   59],\n",
       "       [  60,   61,   62,   63,   64,   65,   66,   67,   68,   69],\n",
       "       [  70,   71,   72,   73,   74,   75,   76,   77,   78,   79],\n",
       "       [  80,   81,   82,   83,   84,   85,   86,   87,   88,   89],\n",
       "       [  90,   91,   92,   93,   94,   95,   96,   97,   98,   99]])"
      ]
     },
     "execution_count": 39,
     "metadata": {},
     "output_type": "execute_result"
    }
   ],
   "source": [
    "a"
   ]
  },
  {
   "cell_type": "code",
   "execution_count": 41,
   "metadata": {},
   "outputs": [],
   "source": [
    "d = a.reshape(100)"
   ]
  },
  {
   "cell_type": "code",
   "execution_count": 44,
   "metadata": {},
   "outputs": [
    {
     "data": {
      "text/plain": [
       "array([[9999,    1,    2,    3,    4],\n",
       "       [   5,    6,    7,    8,    9],\n",
       "       [  10,   11,   12,   13,   14],\n",
       "       [  15,   16,   17,   18,   19],\n",
       "       [  20,   21,   22,   23,   24],\n",
       "       [  25,   26,   27,   28,   29],\n",
       "       [  30,   31,   32,   33,   34],\n",
       "       [  35,   36,   37,   38,   39],\n",
       "       [  40,   41,   42,   43,   44],\n",
       "       [  45,   46,   47,   48,   49],\n",
       "       [  50,   51,   52,   53,   54],\n",
       "       [  55,   56,   57,   58,   59],\n",
       "       [  60,   61,   62,   63,   64],\n",
       "       [  65,   66,   67,   68,   69],\n",
       "       [  70,   71,   72,   73,   74],\n",
       "       [  75,   76,   77,   78,   79],\n",
       "       [  80,   81,   82,   83,   84],\n",
       "       [  85,   86,   87,   88,   89],\n",
       "       [  90,   91,   92,   93,   94],\n",
       "       [  95,   96,   97,   98,   99]])"
      ]
     },
     "execution_count": 44,
     "metadata": {},
     "output_type": "execute_result"
    }
   ],
   "source": [
    "d.reshape(-1,5)"
   ]
  },
  {
   "cell_type": "code",
   "execution_count": 43,
   "metadata": {},
   "outputs": [
    {
     "data": {
      "text/plain": [
       "array([[9999,    1,    2,    3,    4,    5,    6,    7,    8,    9,   10,\n",
       "          11,   12,   13,   14,   15,   16,   17,   18,   19,   20,   21,\n",
       "          22,   23,   24,   25,   26,   27,   28,   29,   30,   31,   32,\n",
       "          33,   34,   35,   36,   37,   38,   39,   40,   41,   42,   43,\n",
       "          44,   45,   46,   47,   48,   49],\n",
       "       [  50,   51,   52,   53,   54,   55,   56,   57,   58,   59,   60,\n",
       "          61,   62,   63,   64,   65,   66,   67,   68,   69,   70,   71,\n",
       "          72,   73,   74,   75,   76,   77,   78,   79,   80,   81,   82,\n",
       "          83,   84,   85,   86,   87,   88,   89,   90,   91,   92,   93,\n",
       "          94,   95,   96,   97,   98,   99]])"
      ]
     },
     "execution_count": 43,
     "metadata": {},
     "output_type": "execute_result"
    }
   ],
   "source": [
    "d.reshape(2,-1)"
   ]
  },
  {
   "cell_type": "code",
   "execution_count": 47,
   "metadata": {},
   "outputs": [
    {
     "data": {
      "text/plain": [
       "array([[9999],\n",
       "       [   1],\n",
       "       [   2],\n",
       "       [   3],\n",
       "       [   4],\n",
       "       [   5],\n",
       "       [   6],\n",
       "       [   7],\n",
       "       [   8],\n",
       "       [   9],\n",
       "       [  10],\n",
       "       [  11],\n",
       "       [  12],\n",
       "       [  13],\n",
       "       [  14],\n",
       "       [  15],\n",
       "       [  16],\n",
       "       [  17],\n",
       "       [  18],\n",
       "       [  19],\n",
       "       [  20],\n",
       "       [  21],\n",
       "       [  22],\n",
       "       [  23],\n",
       "       [  24],\n",
       "       [  25],\n",
       "       [  26],\n",
       "       [  27],\n",
       "       [  28],\n",
       "       [  29],\n",
       "       [  30],\n",
       "       [  31],\n",
       "       [  32],\n",
       "       [  33],\n",
       "       [  34],\n",
       "       [  35],\n",
       "       [  36],\n",
       "       [  37],\n",
       "       [  38],\n",
       "       [  39],\n",
       "       [  40],\n",
       "       [  41],\n",
       "       [  42],\n",
       "       [  43],\n",
       "       [  44],\n",
       "       [  45],\n",
       "       [  46],\n",
       "       [  47],\n",
       "       [  48],\n",
       "       [  49],\n",
       "       [  50],\n",
       "       [  51],\n",
       "       [  52],\n",
       "       [  53],\n",
       "       [  54],\n",
       "       [  55],\n",
       "       [  56],\n",
       "       [  57],\n",
       "       [  58],\n",
       "       [  59],\n",
       "       [  60],\n",
       "       [  61],\n",
       "       [  62],\n",
       "       [  63],\n",
       "       [  64],\n",
       "       [  65],\n",
       "       [  66],\n",
       "       [  67],\n",
       "       [  68],\n",
       "       [  69],\n",
       "       [  70],\n",
       "       [  71],\n",
       "       [  72],\n",
       "       [  73],\n",
       "       [  74],\n",
       "       [  75],\n",
       "       [  76],\n",
       "       [  77],\n",
       "       [  78],\n",
       "       [  79],\n",
       "       [  80],\n",
       "       [  81],\n",
       "       [  82],\n",
       "       [  83],\n",
       "       [  84],\n",
       "       [  85],\n",
       "       [  86],\n",
       "       [  87],\n",
       "       [  88],\n",
       "       [  89],\n",
       "       [  90],\n",
       "       [  91],\n",
       "       [  92],\n",
       "       [  93],\n",
       "       [  94],\n",
       "       [  95],\n",
       "       [  96],\n",
       "       [  97],\n",
       "       [  98],\n",
       "       [  99]])"
      ]
     },
     "execution_count": 47,
     "metadata": {},
     "output_type": "execute_result"
    }
   ],
   "source": [
    "d.reshape(-1,1)"
   ]
  },
  {
   "cell_type": "code",
   "execution_count": 52,
   "metadata": {},
   "outputs": [
    {
     "data": {
      "text/plain": [
       "array([[9999],\n",
       "       [   1],\n",
       "       [   2],\n",
       "       [   3],\n",
       "       [   4],\n",
       "       [   5],\n",
       "       [   6],\n",
       "       [   7],\n",
       "       [   8],\n",
       "       [   9],\n",
       "       [  10],\n",
       "       [  11],\n",
       "       [  12],\n",
       "       [  13],\n",
       "       [  14],\n",
       "       [  15],\n",
       "       [  16],\n",
       "       [  17],\n",
       "       [  18],\n",
       "       [  19],\n",
       "       [  20],\n",
       "       [  21],\n",
       "       [  22],\n",
       "       [  23],\n",
       "       [  24],\n",
       "       [  25],\n",
       "       [  26],\n",
       "       [  27],\n",
       "       [  28],\n",
       "       [  29],\n",
       "       [  30],\n",
       "       [  31],\n",
       "       [  32],\n",
       "       [  33],\n",
       "       [  34],\n",
       "       [  35],\n",
       "       [  36],\n",
       "       [  37],\n",
       "       [  38],\n",
       "       [  39],\n",
       "       [  40],\n",
       "       [  41],\n",
       "       [  42],\n",
       "       [  43],\n",
       "       [  44],\n",
       "       [  45],\n",
       "       [  46],\n",
       "       [  47],\n",
       "       [  48],\n",
       "       [  49],\n",
       "       [  50],\n",
       "       [  51],\n",
       "       [  52],\n",
       "       [  53],\n",
       "       [  54],\n",
       "       [  55],\n",
       "       [  56],\n",
       "       [  57],\n",
       "       [  58],\n",
       "       [  59],\n",
       "       [  60],\n",
       "       [  61],\n",
       "       [  62],\n",
       "       [  63],\n",
       "       [  64],\n",
       "       [  65],\n",
       "       [  66],\n",
       "       [  67],\n",
       "       [  68],\n",
       "       [  69],\n",
       "       [  70],\n",
       "       [  71],\n",
       "       [  72],\n",
       "       [  73],\n",
       "       [  74],\n",
       "       [  75],\n",
       "       [  76],\n",
       "       [  77],\n",
       "       [  78],\n",
       "       [  79],\n",
       "       [  80],\n",
       "       [  81],\n",
       "       [  82],\n",
       "       [  83],\n",
       "       [  84],\n",
       "       [  85],\n",
       "       [  86],\n",
       "       [  87],\n",
       "       [  88],\n",
       "       [  89],\n",
       "       [  90],\n",
       "       [  91],\n",
       "       [  92],\n",
       "       [  93],\n",
       "       [  94],\n",
       "       [  95],\n",
       "       [  96],\n",
       "       [  97],\n",
       "       [  98],\n",
       "       [  99]])"
      ]
     },
     "execution_count": 52,
     "metadata": {},
     "output_type": "execute_result"
    }
   ],
   "source": [
    "d[:,np.newaxis]"
   ]
  },
  {
   "cell_type": "code",
   "execution_count": 64,
   "metadata": {},
   "outputs": [],
   "source": [
    "a1,a2,a3 = np.hsplit(a,[3,6])"
   ]
  },
  {
   "cell_type": "code",
   "execution_count": 65,
   "metadata": {},
   "outputs": [
    {
     "data": {
      "text/plain": [
       "array([[9999,    1,    2],\n",
       "       [  10,   11,   12],\n",
       "       [  20,   21,   22],\n",
       "       [  30,   31,   32],\n",
       "       [  40,   41,   42],\n",
       "       [  50,   51,   52],\n",
       "       [  60,   61,   62],\n",
       "       [  70,   71,   72],\n",
       "       [  80,   81,   82],\n",
       "       [  90,   91,   92]])"
      ]
     },
     "execution_count": 65,
     "metadata": {},
     "output_type": "execute_result"
    }
   ],
   "source": [
    "a1"
   ]
  },
  {
   "cell_type": "code",
   "execution_count": 66,
   "metadata": {},
   "outputs": [
    {
     "data": {
      "text/plain": [
       "array([[ 3,  4,  5],\n",
       "       [13, 14, 15],\n",
       "       [23, 24, 25],\n",
       "       [33, 34, 35],\n",
       "       [43, 44, 45],\n",
       "       [53, 54, 55],\n",
       "       [63, 64, 65],\n",
       "       [73, 74, 75],\n",
       "       [83, 84, 85],\n",
       "       [93, 94, 95]])"
      ]
     },
     "execution_count": 66,
     "metadata": {},
     "output_type": "execute_result"
    }
   ],
   "source": [
    "a2"
   ]
  },
  {
   "cell_type": "markdown",
   "metadata": {},
   "source": [
    "### "
   ]
  },
  {
   "cell_type": "code",
   "execution_count": 67,
   "metadata": {},
   "outputs": [
    {
     "data": {
      "text/plain": [
       "array([[ 6,  7,  8,  9],\n",
       "       [16, 17, 18, 19],\n",
       "       [26, 27, 28, 29],\n",
       "       [36, 37, 38, 39],\n",
       "       [46, 47, 48, 49],\n",
       "       [56, 57, 58, 59],\n",
       "       [66, 67, 68, 69],\n",
       "       [76, 77, 78, 79],\n",
       "       [86, 87, 88, 89],\n",
       "       [96, 97, 98, 99]])"
      ]
     },
     "execution_count": 67,
     "metadata": {},
     "output_type": "execute_result"
    }
   ],
   "source": [
    "a3"
   ]
  },
  {
   "cell_type": "code",
   "execution_count": 69,
   "metadata": {},
   "outputs": [],
   "source": [
    "a1,a2,a3,a4 = np.vsplit(a,[3,5,7])"
   ]
  },
  {
   "cell_type": "code",
   "execution_count": 70,
   "metadata": {},
   "outputs": [
    {
     "data": {
      "text/plain": [
       "array([[9999,    1,    2,    3,    4,    5,    6,    7,    8,    9],\n",
       "       [  10,   11,   12,   13,   14,   15,   16,   17,   18,   19],\n",
       "       [  20,   21,   22,   23,   24,   25,   26,   27,   28,   29]])"
      ]
     },
     "execution_count": 70,
     "metadata": {},
     "output_type": "execute_result"
    }
   ],
   "source": [
    "a1"
   ]
  },
  {
   "cell_type": "code",
   "execution_count": 71,
   "metadata": {},
   "outputs": [
    {
     "data": {
      "text/plain": [
       "array([[30, 31, 32, 33, 34, 35, 36, 37, 38, 39],\n",
       "       [40, 41, 42, 43, 44, 45, 46, 47, 48, 49]])"
      ]
     },
     "execution_count": 71,
     "metadata": {},
     "output_type": "execute_result"
    }
   ],
   "source": [
    "a2"
   ]
  },
  {
   "cell_type": "code",
   "execution_count": 72,
   "metadata": {},
   "outputs": [
    {
     "data": {
      "text/plain": [
       "array([[50, 51, 52, 53, 54, 55, 56, 57, 58, 59],\n",
       "       [60, 61, 62, 63, 64, 65, 66, 67, 68, 69]])"
      ]
     },
     "execution_count": 72,
     "metadata": {},
     "output_type": "execute_result"
    }
   ],
   "source": [
    "a3"
   ]
  },
  {
   "cell_type": "code",
   "execution_count": 73,
   "metadata": {},
   "outputs": [
    {
     "data": {
      "text/plain": [
       "array([[70, 71, 72, 73, 74, 75, 76, 77, 78, 79],\n",
       "       [80, 81, 82, 83, 84, 85, 86, 87, 88, 89],\n",
       "       [90, 91, 92, 93, 94, 95, 96, 97, 98, 99]])"
      ]
     },
     "execution_count": 73,
     "metadata": {},
     "output_type": "execute_result"
    }
   ],
   "source": [
    "a4"
   ]
  },
  {
   "cell_type": "code",
   "execution_count": 74,
   "metadata": {},
   "outputs": [
    {
     "data": {
      "text/plain": [
       "array([[9999,    1,    2,    3,    4,    5,    6,    7,    8,    9],\n",
       "       [  10,   11,   12,   13,   14,   15,   16,   17,   18,   19],\n",
       "       [  20,   21,   22,   23,   24,   25,   26,   27,   28,   29],\n",
       "       [  30,   31,   32,   33,   34,   35,   36,   37,   38,   39],\n",
       "       [  40,   41,   42,   43,   44,   45,   46,   47,   48,   49],\n",
       "       [  50,   51,   52,   53,   54,   55,   56,   57,   58,   59],\n",
       "       [  60,   61,   62,   63,   64,   65,   66,   67,   68,   69],\n",
       "       [  70,   71,   72,   73,   74,   75,   76,   77,   78,   79],\n",
       "       [  80,   81,   82,   83,   84,   85,   86,   87,   88,   89],\n",
       "       [  90,   91,   92,   93,   94,   95,   96,   97,   98,   99]])"
      ]
     },
     "execution_count": 74,
     "metadata": {},
     "output_type": "execute_result"
    }
   ],
   "source": [
    "a"
   ]
  },
  {
   "cell_type": "code",
   "execution_count": 77,
   "metadata": {},
   "outputs": [
    {
     "data": {
      "text/plain": [
       "array([10044,   145,   245,   345,   445,   545,   645,   745,   845,\n",
       "         945])"
      ]
     },
     "execution_count": 77,
     "metadata": {},
     "output_type": "execute_result"
    }
   ],
   "source": [
    "np.sum(a,axis=1)"
   ]
  },
  {
   "cell_type": "code",
   "execution_count": 80,
   "metadata": {},
   "outputs": [],
   "source": [
    "a = np.arange(10).reshape(2,5)"
   ]
  },
  {
   "cell_type": "code",
   "execution_count": 81,
   "metadata": {},
   "outputs": [
    {
     "data": {
      "text/plain": [
       "array([[0, 1, 2, 3, 4],\n",
       "       [5, 6, 7, 8, 9]])"
      ]
     },
     "execution_count": 81,
     "metadata": {},
     "output_type": "execute_result"
    }
   ],
   "source": [
    "a"
   ]
  },
  {
   "cell_type": "code",
   "execution_count": 83,
   "metadata": {},
   "outputs": [],
   "source": [
    "b = np.arange(20).reshape(4,5)"
   ]
  },
  {
   "cell_type": "code",
   "execution_count": 85,
   "metadata": {},
   "outputs": [
    {
     "data": {
      "text/plain": [
       "array([[ 0,  1,  2,  3,  4],\n",
       "       [ 5,  6,  7,  8,  9],\n",
       "       [ 0,  1,  2,  3,  4],\n",
       "       [ 5,  6,  7,  8,  9],\n",
       "       [10, 11, 12, 13, 14],\n",
       "       [15, 16, 17, 18, 19]])"
      ]
     },
     "execution_count": 85,
     "metadata": {},
     "output_type": "execute_result"
    }
   ],
   "source": [
    "np.vstack([a,b])"
   ]
  },
  {
   "cell_type": "code",
   "execution_count": 86,
   "metadata": {},
   "outputs": [
    {
     "data": {
      "text/plain": [
       "4.5"
      ]
     },
     "execution_count": 86,
     "metadata": {},
     "output_type": "execute_result"
    }
   ],
   "source": [
    "np.mean(a)"
   ]
  },
  {
   "cell_type": "code",
   "execution_count": 89,
   "metadata": {},
   "outputs": [
    {
     "data": {
      "text/plain": [
       "array([[0, 1, 2, 3, 4],\n",
       "       [5, 6, 7, 8, 9]])"
      ]
     },
     "execution_count": 89,
     "metadata": {},
     "output_type": "execute_result"
    }
   ],
   "source": [
    "a"
   ]
  },
  {
   "cell_type": "code",
   "execution_count": 90,
   "metadata": {},
   "outputs": [
    {
     "data": {
      "text/plain": [
       "array([0, 1, 2, 3, 4])"
      ]
     },
     "execution_count": 90,
     "metadata": {},
     "output_type": "execute_result"
    }
   ],
   "source": [
    "np.min(a,axis=0)"
   ]
  },
  {
   "cell_type": "code",
   "execution_count": null,
   "metadata": {},
   "outputs": [],
   "source": [
    "np."
   ]
  }
 ],
 "metadata": {
  "kernelspec": {
   "display_name": "Python 3",
   "language": "python",
   "name": "python3"
  },
  "language_info": {
   "codemirror_mode": {
    "name": "ipython",
    "version": 3
   },
   "file_extension": ".py",
   "mimetype": "text/x-python",
   "name": "python",
   "nbconvert_exporter": "python",
   "pygments_lexer": "ipython3",
   "version": "3.6.4"
  }
 },
 "nbformat": 4,
 "nbformat_minor": 2
}
