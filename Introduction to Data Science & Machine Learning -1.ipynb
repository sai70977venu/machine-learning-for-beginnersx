{
 "cells": [
  {
   "cell_type": "markdown",
   "metadata": {},
   "source": [
    "1. NumPy\n",
    "2. Pandas\n",
    "3. Statistics & Essential Maths\n",
    "4. Linear Regression & Regularization Techniques\n",
    "5. Logistic Regression with Polynomial Degree\n",
    "6. Preprocessing Techniques\n",
    "7. Feature Selection & Extraction\n",
    "8. Decision Trees\n",
    "9. Naive Bayes\n",
    "10. Ensemble Methods - RandomForest, Adaboost, VotingClassifier\n",
    "11. Nearest Neighbors\n",
    "12. Clustering Techniques\n",
    "13. Support Vector Machine\n",
    "14. Handling Outliers\n",
    "15. Imbalanced Classes\n",
    "16. Projects"
   ]
  },
  {
   "cell_type": "code",
   "execution_count": null,
   "metadata": {},
   "outputs": [],
   "source": []
  }
 ],
 "metadata": {
  "kernelspec": {
   "display_name": "Python 3",
   "language": "python",
   "name": "python3"
  },
  "language_info": {
   "codemirror_mode": {
    "name": "ipython",
    "version": 3
   },
   "file_extension": ".py",
   "mimetype": "text/x-python",
   "name": "python",
   "nbconvert_exporter": "python",
   "pygments_lexer": "ipython3",
   "version": "3.6.4"
  }
 },
 "nbformat": 4,
 "nbformat_minor": 2
}
